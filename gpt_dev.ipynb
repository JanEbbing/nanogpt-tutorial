{
 "cells": [
  {
   "cell_type": "code",
   "execution_count": 1,
   "metadata": {},
   "outputs": [
    {
     "name": "stdout",
     "output_type": "stream",
     "text": [
      "1115394\n"
     ]
    }
   ],
   "source": [
    "with open('input.txt', 'r', encoding='utf-8') as f:\n",
    "    text = f.read()\n",
    "\n",
    "print(len(text))"
   ]
  },
  {
   "cell_type": "code",
   "execution_count": 2,
   "metadata": {},
   "outputs": [
    {
     "name": "stdout",
     "output_type": "stream",
     "text": [
      "First Citizen:\n",
      "Before we proceed any further, hear me speak.\n",
      "\n",
      "All:\n",
      "Speak, speak.\n",
      "\n",
      "First Citizen:\n",
      "You\n"
     ]
    }
   ],
   "source": [
    "print(text[:100])"
   ]
  },
  {
   "cell_type": "code",
   "execution_count": 21,
   "metadata": {},
   "outputs": [
    {
     "name": "stdout",
     "output_type": "stream",
     "text": [
      "65\n",
      "\n",
      " !$&',-.3:;?ABCDEFGHIJKLMNOPQRSTUVWXYZabcdefghijklmnopqrstuvwxyz\n"
     ]
    }
   ],
   "source": [
    "# Create encoding for text\n",
    "all_chars = sorted(list(set(text)))\n",
    "vocab_size = len(all_chars)\n",
    "print(len(all_chars))\n",
    "print(''.join(all_chars))"
   ]
  },
  {
   "cell_type": "code",
   "execution_count": 11,
   "metadata": {},
   "outputs": [
    {
     "name": "stdout",
     "output_type": "stream",
     "text": [
      "[58, 43, 57, 58, 1, 61, 53, 56, 42, 1, 57, 46, 47, 40, 40, 53, 50, 43, 58, 46]\n",
      "test word shibboleth\n"
     ]
    }
   ],
   "source": [
    "# Define encoding and decoding functions for this set\n",
    "\n",
    "char_to_integer = { ch:i for i, ch in enumerate(all_chars) }\n",
    "integer_to_char = { v:k for k, v in char_to_integer.items() }\n",
    "encode = lambda s: [char_to_integer[c] for c in s]\n",
    "decode = lambda l: ''.join([integer_to_char[n] for n in l])\n",
    "\n",
    "print(encode(\"test word shibboleth\"))\n",
    "print(decode(encode(\"test word shibboleth\")))"
   ]
  },
  {
   "cell_type": "code",
   "execution_count": 12,
   "metadata": {},
   "outputs": [
    {
     "name": "stdout",
     "output_type": "stream",
     "text": [
      "torch.Size([1115394]) torch.int64\n",
      "tensor([18, 47, 56, 57, 58,  1, 15, 47, 58, 47, 64, 43, 52, 10,  0, 14, 43, 44,\n",
      "        53, 56, 43,  1, 61, 43,  1, 54, 56, 53, 41, 43, 43, 42,  1, 39, 52, 63,\n",
      "         1, 44, 59, 56, 58, 46, 43, 56,  6,  1, 46, 43, 39, 56,  1, 51, 43,  1,\n",
      "        57, 54, 43, 39, 49,  8,  0,  0, 13, 50, 50, 10,  0, 31, 54, 43, 39, 49,\n",
      "         6,  1, 57, 54, 43, 39, 49,  8,  0,  0, 18, 47, 56, 57, 58,  1, 15, 47,\n",
      "        58, 47, 64, 43, 52, 10,  0, 37, 53, 59])\n"
     ]
    }
   ],
   "source": [
    "# Use encoding function to encode entire dataset, store in pytorch tensor and do 90/10 training/validation split (first 90/last 10)\n",
    "\n",
    "import torch\n",
    "dataset_tensor = torch.tensor(encode(text), dtype=torch.long)\n",
    "print(dataset_tensor.shape, dataset_tensor.dtype)\n",
    "print(dataset_tensor[:100])"
   ]
  },
  {
   "cell_type": "code",
   "execution_count": 14,
   "metadata": {},
   "outputs": [],
   "source": [
    "n = int(0.9*len(dataset_tensor))\n",
    "train_data = dataset_tensor[:n]\n",
    "val_data = dataset_tensor[n:]"
   ]
  },
  {
   "cell_type": "code",
   "execution_count": 16,
   "metadata": {},
   "outputs": [
    {
     "name": "stdout",
     "output_type": "stream",
     "text": [
      "tensor([18, 47, 56, 57, 58,  1, 15, 47, 58])\n",
      "When input is tensor([18]), target is 47\n",
      "When input is tensor([18, 47]), target is 56\n",
      "When input is tensor([18, 47, 56]), target is 57\n",
      "When input is tensor([18, 47, 56, 57]), target is 58\n",
      "When input is tensor([18, 47, 56, 57, 58]), target is 1\n",
      "When input is tensor([18, 47, 56, 57, 58,  1]), target is 15\n",
      "When input is tensor([18, 47, 56, 57, 58,  1, 15]), target is 47\n",
      "When input is tensor([18, 47, 56, 57, 58,  1, 15, 47]), target is 58\n"
     ]
    }
   ],
   "source": [
    "# Block size determines the size of what the transformer sees\n",
    "block_size = 8\n",
    "print(train_data[:block_size+1])\n",
    "# Print example for context and training label\n",
    "example_data = train_data[:block_size+1]\n",
    "assert len(example_data) == block_size + 1\n",
    "for i in range(block_size):\n",
    "    context = example_data[:i+1]\n",
    "    target = example_data[i+1]\n",
    "    print(f\"When input is {context}, target is {target}\")"
   ]
  },
  {
   "cell_type": "code",
   "execution_count": 20,
   "metadata": {},
   "outputs": [
    {
     "name": "stdout",
     "output_type": "stream",
     "text": [
      "inputs\n",
      "torch.Size([4, 8])\n",
      "tensor([[24, 43, 58,  5, 57,  1, 46, 43],\n",
      "        [44, 53, 56,  1, 58, 46, 39, 58],\n",
      "        [52, 58,  1, 58, 46, 39, 58,  1],\n",
      "        [25, 17, 27, 10,  0, 21,  1, 54]])\n",
      "targets\n",
      "torch.Size([4, 8])\n",
      "tensor([[43, 58,  5, 57,  1, 46, 43, 39],\n",
      "        [53, 56,  1, 58, 46, 39, 58,  1],\n",
      "        [58,  1, 58, 46, 39, 58,  1, 46],\n",
      "        [17, 27, 10,  0, 21,  1, 54, 39]])\n",
      "=========\n",
      "When input is [24], target is 43\n",
      "When input is [24, 43], target is 58\n",
      "When input is [24, 43, 58], target is 5\n",
      "When input is [24, 43, 58, 5], target is 57\n",
      "When input is [24, 43, 58, 5, 57], target is 1\n",
      "When input is [24, 43, 58, 5, 57, 1], target is 46\n",
      "When input is [24, 43, 58, 5, 57, 1, 46], target is 43\n",
      "When input is [24, 43, 58, 5, 57, 1, 46, 43], target is 39\n",
      "When input is [44], target is 53\n",
      "When input is [44, 53], target is 56\n",
      "When input is [44, 53, 56], target is 1\n",
      "When input is [44, 53, 56, 1], target is 58\n",
      "When input is [44, 53, 56, 1, 58], target is 46\n",
      "When input is [44, 53, 56, 1, 58, 46], target is 39\n",
      "When input is [44, 53, 56, 1, 58, 46, 39], target is 58\n",
      "When input is [44, 53, 56, 1, 58, 46, 39, 58], target is 1\n",
      "When input is [52], target is 58\n",
      "When input is [52, 58], target is 1\n",
      "When input is [52, 58, 1], target is 58\n",
      "When input is [52, 58, 1, 58], target is 46\n",
      "When input is [52, 58, 1, 58, 46], target is 39\n",
      "When input is [52, 58, 1, 58, 46, 39], target is 58\n",
      "When input is [52, 58, 1, 58, 46, 39, 58], target is 1\n",
      "When input is [52, 58, 1, 58, 46, 39, 58, 1], target is 46\n",
      "When input is [25], target is 17\n",
      "When input is [25, 17], target is 27\n",
      "When input is [25, 17, 27], target is 10\n",
      "When input is [25, 17, 27, 10], target is 0\n",
      "When input is [25, 17, 27, 10, 0], target is 21\n",
      "When input is [25, 17, 27, 10, 0, 21], target is 1\n",
      "When input is [25, 17, 27, 10, 0, 21, 1], target is 54\n",
      "When input is [25, 17, 27, 10, 0, 21, 1, 54], target is 39\n"
     ]
    }
   ],
   "source": [
    "torch.manual_seed(1337)\n",
    "batch_size = 4 # Independent sequences processed in parallel\n",
    "block_size = 8 # 1 context window the transformer sees\n",
    "\n",
    "def get_batch(split: str):\n",
    "    data = train_data if split == 'train' else val_data\n",
    "    indices = torch.randint(len(data) - block_size, (batch_size,))\n",
    "    contexts = torch.stack([data[i:i+block_size] for i in indices])\n",
    "    targets = torch.stack([data[i+1:i+1+block_size] for i in indices])\n",
    "    return contexts, targets\n",
    "\n",
    "sample_contexts, sample_targets = get_batch('train')\n",
    "print('inputs')\n",
    "print(sample_contexts.shape)\n",
    "print(sample_contexts)\n",
    "print('targets')\n",
    "print(sample_targets.shape)\n",
    "print(sample_targets)\n",
    "print('=========')\n",
    "\n",
    "for b in range(batch_size): # parallelism\n",
    "    for t in range(block_size): # variable context length\n",
    "        sample_context = sample_contexts[b, :t+1]\n",
    "        sample_target = sample_targets[b, t]\n",
    "        print(f\"When input is {sample_context.tolist()}, target is {sample_target.tolist()}\")\n"
   ]
  },
  {
   "cell_type": "code",
   "execution_count": 22,
   "metadata": {},
   "outputs": [
    {
     "name": "stdout",
     "output_type": "stream",
     "text": [
      "torch.Size([4, 8, 65])\n"
     ]
    }
   ],
   "source": [
    "import torch.nn as nn\n",
    "from torch.nn import functional as F\n",
    "torch.manual_seed(1337)\n",
    "\n",
    "class BigramLanguageModel(nn.Module):\n",
    "    def __init__(self, vocab_size):\n",
    "        super().__init__()\n",
    "        self.token_embedding_table = nn.Embedding(vocab_size, vocab_size)\n",
    "    \n",
    "    def forward(self, idx, targets):\n",
    "        return self.token_embedding_table(idx)\n",
    "\n",
    "m = BigramLanguageModel(vocab_size)\n",
    "out = m(sample_contexts, sample_targets)\n",
    "print(out.shape)"
   ]
  }
 ],
 "metadata": {
  "interpreter": {
   "hash": "e7370f93d1d0cde622a1f8e1c04877d8463912d04d973331ad4851f04de6915a"
  },
  "kernelspec": {
   "display_name": "Python 3.10.8 64-bit",
   "language": "python",
   "name": "python3"
  },
  "language_info": {
   "codemirror_mode": {
    "name": "ipython",
    "version": 3
   },
   "file_extension": ".py",
   "mimetype": "text/x-python",
   "name": "python",
   "nbconvert_exporter": "python",
   "pygments_lexer": "ipython3",
   "version": "3.10.10"
  },
  "orig_nbformat": 4
 },
 "nbformat": 4,
 "nbformat_minor": 2
}
